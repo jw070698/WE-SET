{
 "cells": [
  {
   "cell_type": "code",
   "execution_count": null,
   "id": "0b077a33",
   "metadata": {},
   "outputs": [],
   "source": [
    "! pip install opencv-python"
   ]
  },
  {
   "cell_type": "code",
   "execution_count": null,
   "id": "0c730dbb",
   "metadata": {},
   "outputs": [],
   "source": [
    "import os\n",
    "import cv2 \n",
    "import csv\n",
    "\n",
    "# xml 파일 파싱 라이브러리 \n",
    "import xml.etree.ElementTree as ET\n",
    "from xml.etree.ElementTree import Element, dump, ElementTree"
   ]
  },
  {
   "cell_type": "code",
   "execution_count": null,
   "id": "2028bce0",
   "metadata": {},
   "outputs": [],
   "source": [
    "# xml 파일 불러오기\n",
    "\n",
    "fileDir = \"C://Users//김영민//Downloads//이상행동 CCTV 영상\" # 데이터셋 저장 경로\n",
    "fileExt = \".xml\" # 확장자명\n",
    "\n",
    "frame = []\n",
    "count = 0 # count 번째 사진 \n",
    "\n",
    "for category in os.listdir(fileDir) : # 이상행위 별 폴더\n",
    "    for split in os.listdir(fileDir + \"//\" + category) : # 해당 이상행위 영상 분할압축 폴더 중 다운로드 받은 파일 폴더\n",
    "        for folder in os.listdir(fileDir + \"//\" + category + \"//\" + split) :\n",
    "            for file in os.listdir(fileDir + \"//\" + category + \"//\" + split + \"//\" + folder) :\n",
    "                if file.endswith(fileExt) : # 파일명에 .xml 이 포함된 경우 \n",
    "                    xml_file = fileDir + \"//\" + category + \"//\" + split + \"//\" + folder + \"//\" + file\n",
    "                    doc = ET.parse(xml_file)\n",
    "                    root = doc.getroot() # root 노드 가지고 오기\n",
    "                    \n",
    "                    # xml 파일에서 시작/끝 프레임 수 추출\n",
    "                    for object in root.iter(\"action\"):\n",
    "                        start = int(object.find(\"frame\").findtext(\"start\"))\n",
    "                        end = int(object.find(\"frame\").findtext(\"end\"))\n",
    "\n",
    "                        framelist = [start, end]\n",
    "                        frame.append(framelist)\n",
    "                    \n",
    "                    for i in range(len(frame)) :\n",
    "                        filename = file[:-4]\n",
    "                        print(filename)\n",
    "\n",
    "                        video = fileDir + \"//\" + category + \"//\" + split + \"//\" + folder + \"//\" + filename + \".mp4\"\n",
    "                        savepath = \"C://cap//\" + category[0:2] # 경로에 한글 포함되면 안됨\n",
    "                        \n",
    "                        # 기존에 frame dir가 없는 경우, 해당 dir를 생성한다.\n",
    "                        if not os.path.exists(savepath):\n",
    "                            os.makedirs(savepath)\n",
    "\n",
    "                        vidcap = cv2.VideoCapture(video)\n",
    "\n",
    "                        fps = vidcap.get(cv2.CAP_PROP_FPS)\n",
    "                        frame_count = vidcap.get(cv2.CAP_PROP_FRAME_COUNT) \n",
    "                        duration = frame_count / fps \n",
    "\n",
    "                        increase_width = 10 # 스크린샷 캡처 간격 설정\n",
    "                        start_frame = frame[i][0] \n",
    "                        success = True\n",
    "                        \n",
    "                        while success :\n",
    "                            vidcap.set(1, start_frame)\n",
    "                            success,image = vidcap.read() \n",
    "                            image = cv2.resize(image, (960, 540))\n",
    "                            print(start_frame, \"번째 프레임 캡쳐\") \n",
    "                            cv2.imwrite(savepath + \"//%d.jpg\"%count, image) # 저장시킬 위치 주소 \n",
    "                            print(\"saved image %d.jpg\" % count)\n",
    "                            count += 1\n",
    "                            start_frame += increase_width \n",
    "                            if start_frame > frame[i][1] :\n",
    "                                break \n",
    "                    \n",
    "                    frame = []\n",
    "                    print('----- Finish Video Capture! -----')\n",
    "\n"
   ]
  }
 ],
 "metadata": {
  "kernelspec": {
   "display_name": "Python 3",
   "language": "python",
   "name": "python3"
  },
  "language_info": {
   "codemirror_mode": {
    "name": "ipython",
    "version": 3
   },
   "file_extension": ".py",
   "mimetype": "text/x-python",
   "name": "python",
   "nbconvert_exporter": "python",
   "pygments_lexer": "ipython3",
   "version": "3.8.8"
  }
 },
 "nbformat": 4,
 "nbformat_minor": 5
}
